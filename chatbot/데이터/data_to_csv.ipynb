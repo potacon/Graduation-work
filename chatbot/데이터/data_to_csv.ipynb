{
 "cells": [
  {
   "cell_type": "code",
   "execution_count": 1,
   "metadata": {},
   "outputs": [],
   "source": [
    "import os\n",
    "import json\n",
    "import pandas as pd"
   ]
  },
  {
   "cell_type": "code",
   "execution_count": 2,
   "metadata": {},
   "outputs": [],
   "source": [
    "def counting(path):\n",
    "    cnt = 0\n",
    "    data_dir = path\n",
    "    \n",
    "    for path in os.listdir(data_dir):\n",
    "        if os.path.isfile(os.path.join(data_dir, path)):\n",
    "            cnt+=1\n",
    "    \n",
    "    print(f'데이터 개수 = {cnt}')\n",
    "    return cnt"
   ]
  },
  {
   "attachments": {},
   "cell_type": "markdown",
   "metadata": {},
   "source": [
    "# 용도별 목적대화 데이터  json -> CSV로 변환"
   ]
  },
  {
   "cell_type": "code",
   "execution_count": 19,
   "metadata": {},
   "outputs": [],
   "source": [
    "target_path = \"./용도별 목적대화 데이터/01.데이터/1.Training/라벨링데이터/\""
   ]
  },
  {
   "cell_type": "code",
   "execution_count": 21,
   "metadata": {},
   "outputs": [],
   "source": [
    "target_path_list = os.listdir(target_path)"
   ]
  },
  {
   "cell_type": "code",
   "execution_count": 17,
   "metadata": {},
   "outputs": [
    {
     "name": "stdout",
     "output_type": "stream",
     "text": [
      "['01.AS문의', '01.부서안내', '01.숙박', '01.프로그램문의', '02.교통', '02.등록문의', '02.절차문의', '02.제품사용문의', '03.비용환불문의', '03.서류문의', '03.식당', '03.주문결제', '04.레저', '04.민원신고', '04.배송', '04.일정문의', '05.관광', '05.환불반품교환', '06.이벤트', '07.온오프라인안내']\n"
     ]
    }
   ],
   "source": [
    "print(target_path_list)"
   ]
  },
  {
   "cell_type": "code",
   "execution_count": 22,
   "metadata": {},
   "outputs": [
    {
     "name": "stdout",
     "output_type": "stream",
     "text": [
      "데이터 개수 = 2426\n",
      "데이터 개수 = 2093\n",
      "데이터 개수 = 1410\n",
      "데이터 개수 = 2707\n",
      "데이터 개수 = 899\n",
      "데이터 개수 = 1806\n",
      "데이터 개수 = 2787\n",
      "데이터 개수 = 2473\n",
      "데이터 개수 = 970\n",
      "데이터 개수 = 2196\n",
      "데이터 개수 = 1446\n",
      "데이터 개수 = 1952\n",
      "데이터 개수 = 2313\n",
      "데이터 개수 = 2833\n",
      "데이터 개수 = 1945\n",
      "데이터 개수 = 910\n",
      "데이터 개수 = 2281\n",
      "데이터 개수 = 1910\n",
      "데이터 개수 = 990\n",
      "데이터 개수 = 2136\n",
      "총 데이터 수: 38483\n"
     ]
    }
   ],
   "source": [
    "total_data =0\n",
    "for i in range(len(target_path_list)):\n",
    "    cnt = counting(target_path+target_path_list[i])\n",
    "    total_data += cnt\n",
    "print(f'총 데이터 수: {total_data}')"
   ]
  },
  {
   "cell_type": "code",
   "execution_count": 23,
   "metadata": {},
   "outputs": [
    {
     "name": "stdout",
     "output_type": "stream",
     "text": [
      "error ./용도별 목적대화 데이터/01.데이터/1.Training/라벨링데이터/04.배송/shopping4_0842.json\n"
     ]
    }
   ],
   "source": [
    "purpose = []\n",
    "for i in range(len(target_path_list)):\n",
    "    files = os.listdir(target_path + target_path_list[i])\n",
    "    for k in range(len(files)):\n",
    "        final_path = str(target_path) + str(target_path_list[i]) + \"/\" + str(files[k])\n",
    "        try:\n",
    "            target_file = open(f\"{final_path}\", encoding='UTF-8')\n",
    "            target_file = json.loads(target_file.read())\n",
    "            for j in range(len(target_file['info'][0]['annotations']['lines'])):\n",
    "                purpose.append(target_file['info'][0]['annotations']['lines'][j]['norm_text'][2:])\n",
    "        except:\n",
    "            print(\"error {}\".format(final_path))\n",
    "                "
   ]
  },
  {
   "cell_type": "code",
   "execution_count": 24,
   "metadata": {},
   "outputs": [
    {
     "data": {
      "text/plain": [
       "480494"
      ]
     },
     "execution_count": 24,
     "metadata": {},
     "output_type": "execute_result"
    }
   ],
   "source": [
    "len(purpose)"
   ]
  },
  {
   "cell_type": "code",
   "execution_count": 25,
   "metadata": {},
   "outputs": [],
   "source": [
    "purpose_df = pd.DataFrame({'text':purpose})"
   ]
  },
  {
   "cell_type": "code",
   "execution_count": 26,
   "metadata": {},
   "outputs": [
    {
     "data": {
      "text/html": [
       "<div>\n",
       "<style scoped>\n",
       "    .dataframe tbody tr th:only-of-type {\n",
       "        vertical-align: middle;\n",
       "    }\n",
       "\n",
       "    .dataframe tbody tr th {\n",
       "        vertical-align: top;\n",
       "    }\n",
       "\n",
       "    .dataframe thead th {\n",
       "        text-align: right;\n",
       "    }\n",
       "</style>\n",
       "<table border=\"1\" class=\"dataframe\">\n",
       "  <thead>\n",
       "    <tr style=\"text-align: right;\">\n",
       "      <th></th>\n",
       "      <th>text</th>\n",
       "    </tr>\n",
       "  </thead>\n",
       "  <tbody>\n",
       "    <tr>\n",
       "      <th>0</th>\n",
       "      <td>네 많이 걱정하셨을 텐데요</td>\n",
       "    </tr>\n",
       "    <tr>\n",
       "      <th>1</th>\n",
       "      <td>일단 기사가 다시 가서 확인을 좀 드릴거고요</td>\n",
       "    </tr>\n",
       "    <tr>\n",
       "      <th>2</th>\n",
       "      <td>일정 확인해 볼텐데 혹시  방문 시간대는 언제가 좀 편하시겠어요 고객님</td>\n",
       "    </tr>\n",
       "    <tr>\n",
       "      <th>3</th>\n",
       "      <td>지금 이 지금 시간대가 좋은데요</td>\n",
       "    </tr>\n",
       "    <tr>\n",
       "      <th>4</th>\n",
       "      <td>예 확인해 보겠습니다 고객님</td>\n",
       "    </tr>\n",
       "    <tr>\n",
       "      <th>...</th>\n",
       "      <td>...</td>\n",
       "    </tr>\n",
       "    <tr>\n",
       "      <th>480489</th>\n",
       "      <td>시월 청구서에 반영됩니다</td>\n",
       "    </tr>\n",
       "    <tr>\n",
       "      <th>480490</th>\n",
       "      <td>네 알겠습니다 감사합니다</td>\n",
       "    </tr>\n",
       "    <tr>\n",
       "      <th>480491</th>\n",
       "      <td>다른문의 사항 있으실까요</td>\n",
       "    </tr>\n",
       "    <tr>\n",
       "      <th>480492</th>\n",
       "      <td>아니요 없습니다 답변 감사해요</td>\n",
       "    </tr>\n",
       "    <tr>\n",
       "      <th>480493</th>\n",
       "      <td>감사합니다 #@소속# #@이름#이었습니다</td>\n",
       "    </tr>\n",
       "  </tbody>\n",
       "</table>\n",
       "<p>480494 rows × 1 columns</p>\n",
       "</div>"
      ],
      "text/plain": [
       "                                           text\n",
       "0                                네 많이 걱정하셨을 텐데요\n",
       "1                      일단 기사가 다시 가서 확인을 좀 드릴거고요\n",
       "2       일정 확인해 볼텐데 혹시  방문 시간대는 언제가 좀 편하시겠어요 고객님\n",
       "3                             지금 이 지금 시간대가 좋은데요\n",
       "4                               예 확인해 보겠습니다 고객님\n",
       "...                                         ...\n",
       "480489                            시월 청구서에 반영됩니다\n",
       "480490                            네 알겠습니다 감사합니다\n",
       "480491                            다른문의 사항 있으실까요\n",
       "480492                         아니요 없습니다 답변 감사해요\n",
       "480493                   감사합니다 #@소속# #@이름#이었습니다\n",
       "\n",
       "[480494 rows x 1 columns]"
      ]
     },
     "execution_count": 26,
     "metadata": {},
     "output_type": "execute_result"
    }
   ],
   "source": [
    "purpose_df"
   ]
  },
  {
   "cell_type": "code",
   "execution_count": 27,
   "metadata": {},
   "outputs": [],
   "source": [
    "#저장하기\n",
    "purpose_df.to_csv('./data_to_csv/용도별목적대화데이터.csv', index=False)"
   ]
  },
  {
   "cell_type": "code",
   "execution_count": 28,
   "metadata": {},
   "outputs": [],
   "source": [
    "#확인하기\n",
    "df = pd.read_csv('./data_to_csv/용도별목적대화데이터.csv')"
   ]
  },
  {
   "cell_type": "code",
   "execution_count": 29,
   "metadata": {},
   "outputs": [
    {
     "data": {
      "text/html": [
       "<div>\n",
       "<style scoped>\n",
       "    .dataframe tbody tr th:only-of-type {\n",
       "        vertical-align: middle;\n",
       "    }\n",
       "\n",
       "    .dataframe tbody tr th {\n",
       "        vertical-align: top;\n",
       "    }\n",
       "\n",
       "    .dataframe thead th {\n",
       "        text-align: right;\n",
       "    }\n",
       "</style>\n",
       "<table border=\"1\" class=\"dataframe\">\n",
       "  <thead>\n",
       "    <tr style=\"text-align: right;\">\n",
       "      <th></th>\n",
       "      <th>text</th>\n",
       "    </tr>\n",
       "  </thead>\n",
       "  <tbody>\n",
       "    <tr>\n",
       "      <th>0</th>\n",
       "      <td>네 많이 걱정하셨을 텐데요</td>\n",
       "    </tr>\n",
       "    <tr>\n",
       "      <th>1</th>\n",
       "      <td>일단 기사가 다시 가서 확인을 좀 드릴거고요</td>\n",
       "    </tr>\n",
       "    <tr>\n",
       "      <th>2</th>\n",
       "      <td>일정 확인해 볼텐데 혹시  방문 시간대는 언제가 좀 편하시겠어요 고객님</td>\n",
       "    </tr>\n",
       "    <tr>\n",
       "      <th>3</th>\n",
       "      <td>지금 이 지금 시간대가 좋은데요</td>\n",
       "    </tr>\n",
       "    <tr>\n",
       "      <th>4</th>\n",
       "      <td>예 확인해 보겠습니다 고객님</td>\n",
       "    </tr>\n",
       "    <tr>\n",
       "      <th>...</th>\n",
       "      <td>...</td>\n",
       "    </tr>\n",
       "    <tr>\n",
       "      <th>480489</th>\n",
       "      <td>시월 청구서에 반영됩니다</td>\n",
       "    </tr>\n",
       "    <tr>\n",
       "      <th>480490</th>\n",
       "      <td>네 알겠습니다 감사합니다</td>\n",
       "    </tr>\n",
       "    <tr>\n",
       "      <th>480491</th>\n",
       "      <td>다른문의 사항 있으실까요</td>\n",
       "    </tr>\n",
       "    <tr>\n",
       "      <th>480492</th>\n",
       "      <td>아니요 없습니다 답변 감사해요</td>\n",
       "    </tr>\n",
       "    <tr>\n",
       "      <th>480493</th>\n",
       "      <td>감사합니다 #@소속# #@이름#이었습니다</td>\n",
       "    </tr>\n",
       "  </tbody>\n",
       "</table>\n",
       "<p>480494 rows × 1 columns</p>\n",
       "</div>"
      ],
      "text/plain": [
       "                                           text\n",
       "0                                네 많이 걱정하셨을 텐데요\n",
       "1                      일단 기사가 다시 가서 확인을 좀 드릴거고요\n",
       "2       일정 확인해 볼텐데 혹시  방문 시간대는 언제가 좀 편하시겠어요 고객님\n",
       "3                             지금 이 지금 시간대가 좋은데요\n",
       "4                               예 확인해 보겠습니다 고객님\n",
       "...                                         ...\n",
       "480489                            시월 청구서에 반영됩니다\n",
       "480490                            네 알겠습니다 감사합니다\n",
       "480491                            다른문의 사항 있으실까요\n",
       "480492                         아니요 없습니다 답변 감사해요\n",
       "480493                   감사합니다 #@소속# #@이름#이었습니다\n",
       "\n",
       "[480494 rows x 1 columns]"
      ]
     },
     "execution_count": 29,
     "metadata": {},
     "output_type": "execute_result"
    }
   ],
   "source": [
    "df"
   ]
  },
  {
   "attachments": {},
   "cell_type": "markdown",
   "metadata": {},
   "source": [
    "# 주제별 일상 대화 데이터 json -> csv로 변환"
   ]
  },
  {
   "cell_type": "code",
   "execution_count": 30,
   "metadata": {},
   "outputs": [],
   "source": [
    "path = './주제별 텍스트 일상 대화 데이터/01.데이터/1.Training/라벨링데이터/'"
   ]
  },
  {
   "cell_type": "code",
   "execution_count": 31,
   "metadata": {},
   "outputs": [
    {
     "name": "stdout",
     "output_type": "stream",
     "text": [
      "['BAND', 'FACEBOOK', 'INSTAGRAM', 'KAKAO', 'NATEON']\n"
     ]
    }
   ],
   "source": [
    "path_list = os.listdir(path)\n",
    "print(path_list)"
   ]
  },
  {
   "cell_type": "code",
   "execution_count": 32,
   "metadata": {},
   "outputs": [
    {
     "name": "stdout",
     "output_type": "stream",
     "text": [
      "데이터 개수 = 1631\n",
      "데이터 개수 = 8002\n",
      "데이터 개수 = 4800\n",
      "데이터 개수 = 71651\n",
      "데이터 개수 = 1606\n",
      "총 데이터 개수 87690\n"
     ]
    }
   ],
   "source": [
    "total_data = 0\n",
    "for i in range(len(path_list)):\n",
    "    cnt = counting(path + path_list[i])\n",
    "    total_data += cnt\n",
    "print('총 데이터 개수 {}'.format(total_data))"
   ]
  },
  {
   "cell_type": "code",
   "execution_count": 33,
   "metadata": {},
   "outputs": [],
   "source": [
    "ex = open('./주제별 텍스트 일상 대화 데이터/01.데이터/1.Training/라벨링데이터/KAKAO/KAKAO_898_15.json', encoding='utf-8')\n",
    "ex = json.loads(ex.read())"
   ]
  },
  {
   "cell_type": "code",
   "execution_count": 41,
   "metadata": {},
   "outputs": [
    {
     "data": {
      "text/plain": [
       "'장난 아니죠 ? ㅠ'"
      ]
     },
     "execution_count": 41,
     "metadata": {},
     "output_type": "execute_result"
    }
   ],
   "source": [
    "ex['info'][0]['annotations']['lines'][7]['norm_text']"
   ]
  },
  {
   "cell_type": "code",
   "execution_count": 42,
   "metadata": {},
   "outputs": [
    {
     "data": {
      "text/plain": [
       "26"
      ]
     },
     "execution_count": 42,
     "metadata": {},
     "output_type": "execute_result"
    }
   ],
   "source": [
    "len(ex['info'][0]['annotations']['lines'])"
   ]
  },
  {
   "cell_type": "code",
   "execution_count": 51,
   "metadata": {},
   "outputs": [],
   "source": [
    "files = os.listdir(path+ path_list[0])"
   ]
  },
  {
   "cell_type": "code",
   "execution_count": 52,
   "metadata": {},
   "outputs": [
    {
     "data": {
      "text/plain": [
       "'./주제별 텍스트 일상 대화 데이터/01.데이터/1.Training/라벨링데이터/BANDBAND_100_02.json'"
      ]
     },
     "execution_count": 52,
     "metadata": {},
     "output_type": "execute_result"
    }
   ],
   "source": [
    "path + path_list[0] + files[0]"
   ]
  },
  {
   "cell_type": "code",
   "execution_count": 55,
   "metadata": {},
   "outputs": [
    {
     "name": "stdout",
     "output_type": "stream",
     "text": [
      "error! ./주제별 텍스트 일상 대화 데이터/01.데이터/1.Training/라벨링데이터/KAKAO/KAKAO_1648_13.json\n"
     ]
    }
   ],
   "source": [
    "daily_conversations = []\n",
    "for i in range(len(path_list)): # i는 밖에 종류 즉 kako, band, facebook 등을 가리킴\n",
    "    files = os.listdir(path + path_list[i])\n",
    "    for k in range(len(files)): # k가 안에 내용물 json파일들\n",
    "        final_path = str(path) + str(path_list[i]) + \"/\" + str(files[k])\n",
    "        try:\n",
    "            target_file = open(f\"{final_path}\", encoding='utf-8')\n",
    "            target_file = json.loads(target_file.read())\n",
    "            for j in range(len(target_file['info'][0]['annotations']['lines'])):\n",
    "                daily_conversations.append(target_file['info'][0]['annotations']['lines'][j]['norm_text'])\n",
    "        except:\n",
    "            print(f\"error! {final_path}\")\n",
    "            "
   ]
  },
  {
   "cell_type": "code",
   "execution_count": 56,
   "metadata": {},
   "outputs": [
    {
     "data": {
      "text/plain": [
       "1445943"
      ]
     },
     "execution_count": 56,
     "metadata": {},
     "output_type": "execute_result"
    }
   ],
   "source": [
    "len(daily_conversations)"
   ]
  },
  {
   "cell_type": "code",
   "execution_count": 57,
   "metadata": {},
   "outputs": [],
   "source": [
    "daily_conversations_df  = pd.DataFrame({'text':daily_conversations})"
   ]
  },
  {
   "cell_type": "code",
   "execution_count": 60,
   "metadata": {},
   "outputs": [
    {
     "data": {
      "text/html": [
       "<div>\n",
       "<style scoped>\n",
       "    .dataframe tbody tr th:only-of-type {\n",
       "        vertical-align: middle;\n",
       "    }\n",
       "\n",
       "    .dataframe tbody tr th {\n",
       "        vertical-align: top;\n",
       "    }\n",
       "\n",
       "    .dataframe thead th {\n",
       "        text-align: right;\n",
       "    }\n",
       "</style>\n",
       "<table border=\"1\" class=\"dataframe\">\n",
       "  <thead>\n",
       "    <tr style=\"text-align: right;\">\n",
       "      <th></th>\n",
       "      <th>text</th>\n",
       "    </tr>\n",
       "  </thead>\n",
       "  <tbody>\n",
       "    <tr>\n",
       "      <th>0</th>\n",
       "      <td>너희 집 근처에는 병원 있어?</td>\n",
       "    </tr>\n",
       "    <tr>\n",
       "      <th>1</th>\n",
       "      <td>응, 난 엄청 근처에 있어.</td>\n",
       "    </tr>\n",
       "    <tr>\n",
       "      <th>2</th>\n",
       "      <td>나는 차 타고 20분 거리에 있어.</td>\n",
       "    </tr>\n",
       "    <tr>\n",
       "      <th>3</th>\n",
       "      <td>집 근처에 병원이 있으면 편리한 거 같아.</td>\n",
       "    </tr>\n",
       "    <tr>\n",
       "      <th>4</th>\n",
       "      <td>왜 그렇게 생각하는 거야?</td>\n",
       "    </tr>\n",
       "  </tbody>\n",
       "</table>\n",
       "</div>"
      ],
      "text/plain": [
       "                      text\n",
       "0         너희 집 근처에는 병원 있어?\n",
       "1          응, 난 엄청 근처에 있어.\n",
       "2      나는 차 타고 20분 거리에 있어.\n",
       "3  집 근처에 병원이 있으면 편리한 거 같아.\n",
       "4           왜 그렇게 생각하는 거야?"
      ]
     },
     "execution_count": 60,
     "metadata": {},
     "output_type": "execute_result"
    }
   ],
   "source": [
    "daily_conversations_df.head()"
   ]
  },
  {
   "cell_type": "code",
   "execution_count": 61,
   "metadata": {},
   "outputs": [],
   "source": [
    "daily_conversations_df.to_csv('./data_to_csv/주제별일상대화데이터.csv', index=False)"
   ]
  },
  {
   "cell_type": "code",
   "execution_count": 62,
   "metadata": {},
   "outputs": [
    {
     "data": {
      "text/html": [
       "<div>\n",
       "<style scoped>\n",
       "    .dataframe tbody tr th:only-of-type {\n",
       "        vertical-align: middle;\n",
       "    }\n",
       "\n",
       "    .dataframe tbody tr th {\n",
       "        vertical-align: top;\n",
       "    }\n",
       "\n",
       "    .dataframe thead th {\n",
       "        text-align: right;\n",
       "    }\n",
       "</style>\n",
       "<table border=\"1\" class=\"dataframe\">\n",
       "  <thead>\n",
       "    <tr style=\"text-align: right;\">\n",
       "      <th></th>\n",
       "      <th>text</th>\n",
       "    </tr>\n",
       "  </thead>\n",
       "  <tbody>\n",
       "    <tr>\n",
       "      <th>0</th>\n",
       "      <td>너희 집 근처에는 병원 있어?</td>\n",
       "    </tr>\n",
       "    <tr>\n",
       "      <th>1</th>\n",
       "      <td>응, 난 엄청 근처에 있어.</td>\n",
       "    </tr>\n",
       "    <tr>\n",
       "      <th>2</th>\n",
       "      <td>나는 차 타고 20분 거리에 있어.</td>\n",
       "    </tr>\n",
       "    <tr>\n",
       "      <th>3</th>\n",
       "      <td>집 근처에 병원이 있으면 편리한 거 같아.</td>\n",
       "    </tr>\n",
       "    <tr>\n",
       "      <th>4</th>\n",
       "      <td>왜 그렇게 생각하는 거야?</td>\n",
       "    </tr>\n",
       "  </tbody>\n",
       "</table>\n",
       "</div>"
      ],
      "text/plain": [
       "                      text\n",
       "0         너희 집 근처에는 병원 있어?\n",
       "1          응, 난 엄청 근처에 있어.\n",
       "2      나는 차 타고 20분 거리에 있어.\n",
       "3  집 근처에 병원이 있으면 편리한 거 같아.\n",
       "4           왜 그렇게 생각하는 거야?"
      ]
     },
     "execution_count": 62,
     "metadata": {},
     "output_type": "execute_result"
    }
   ],
   "source": [
    "df = pd.read_csv('./data_to_csv/주제별일상대화데이터.csv')\n",
    "df.head()"
   ]
  },
  {
   "attachments": {},
   "cell_type": "markdown",
   "metadata": {},
   "source": [
    "# 일반상식 데이터 json -> csv로 변환"
   ]
  },
  {
   "cell_type": "code",
   "execution_count": 63,
   "metadata": {},
   "outputs": [],
   "source": [
    "common_sense = open(f'./일반상식/02_squad_질문_답변_제시문_말뭉치/ko_wiki_v1_squad.json', encoding='utf-8')\n",
    "common_sense = json.loads(common_sense.read())"
   ]
  },
  {
   "cell_type": "code",
   "execution_count": 66,
   "metadata": {},
   "outputs": [
    {
     "data": {
      "text/plain": [
       "68538"
      ]
     },
     "execution_count": 66,
     "metadata": {},
     "output_type": "execute_result"
    }
   ],
   "source": [
    "len(common_sense['data'])"
   ]
  },
  {
   "cell_type": "code",
   "execution_count": 67,
   "metadata": {},
   "outputs": [
    {
     "data": {
      "text/plain": [
       "{'paragraphs': [{'qas': [{'question': '다테 기미코가 최초로 은퇴 선언을 한게 언제지',\n",
       "     'answers': [{'answer_start': 260, 'text': '1996년 9월 24일'}],\n",
       "     'id': '9_f2_wiki_2822-1'}],\n",
       "   'context': \"재팬 오픈에서 4회 우승하였으며, 통산 단식 200승 이상을 거두었다. 1994년 생애 최초로 세계 랭킹 10위권에 진입하였다. 1992년에는 WTA로부터 '올해 가장 많은 향상을 보여준 선수상'(Most Improved Player Of The Year)을 수여받았으며, 일본 남자 패션 협회(Japan Men's Fashion Association)는 그녀를 '가장 패셔너블한 선수'(Most Fashionable)로 칭했다. 생애 두 번째 올림픽 참가 직후인 1996년 9월 24일 최초로 은퇴를 선언하였다. 이후 12년만인 2008년 4월에 예상치 못한 복귀 선언을 하고 투어에 되돌아왔다. 2008년 6월 15일 도쿄 아리아케 인터내셔널 여자 오픈에서 복귀 후 첫 우승을 기록했으며, 2009년 9월 27일에는 한국에서 열린 한솔 코리아 오픈 대회에서 우승하면서 복귀 후 첫 WTA 투어급 대회 우승을 기록했다. 한숨 좀 작작 쉬어!\"}],\n",
       " 'title': '다테_기미코'}"
      ]
     },
     "execution_count": 67,
     "metadata": {},
     "output_type": "execute_result"
    }
   ],
   "source": [
    "common_sense['data'][0]"
   ]
  },
  {
   "cell_type": "code",
   "execution_count": 68,
   "metadata": {},
   "outputs": [
    {
     "data": {
      "text/plain": [
       "{'question': '다테 기미코가 최초로 은퇴 선언을 한게 언제지',\n",
       " 'answers': [{'answer_start': 260, 'text': '1996년 9월 24일'}],\n",
       " 'id': '9_f2_wiki_2822-1'}"
      ]
     },
     "execution_count": 68,
     "metadata": {},
     "output_type": "execute_result"
    }
   ],
   "source": [
    "common_sense['data'][0]['paragraphs'][0]['qas'][0]"
   ]
  },
  {
   "cell_type": "code",
   "execution_count": 69,
   "metadata": {},
   "outputs": [],
   "source": [
    "query = []\n",
    "answer = []\n",
    "for i in range(len(common_sense['data'])):\n",
    "    query.append(common_sense['data'][i]['paragraphs'][0]['qas'][0]['question'])\n",
    "    answer.append(common_sense['data'][i]['paragraphs'][0]['qas'][0]['answers'][0]['text'])"
   ]
  },
  {
   "cell_type": "code",
   "execution_count": 70,
   "metadata": {},
   "outputs": [
    {
     "name": "stdout",
     "output_type": "stream",
     "text": [
      "68538\n",
      "68538\n"
     ]
    }
   ],
   "source": [
    "print(len(query))\n",
    "print(len(answer))"
   ]
  },
  {
   "cell_type": "code",
   "execution_count": 71,
   "metadata": {},
   "outputs": [],
   "source": [
    "common_sense_df = pd.DataFrame({'intent':['일반상식']*len(query), 'query':query, 'answer':answer})"
   ]
  },
  {
   "cell_type": "code",
   "execution_count": 72,
   "metadata": {},
   "outputs": [
    {
     "data": {
      "text/html": [
       "<div>\n",
       "<style scoped>\n",
       "    .dataframe tbody tr th:only-of-type {\n",
       "        vertical-align: middle;\n",
       "    }\n",
       "\n",
       "    .dataframe tbody tr th {\n",
       "        vertical-align: top;\n",
       "    }\n",
       "\n",
       "    .dataframe thead th {\n",
       "        text-align: right;\n",
       "    }\n",
       "</style>\n",
       "<table border=\"1\" class=\"dataframe\">\n",
       "  <thead>\n",
       "    <tr style=\"text-align: right;\">\n",
       "      <th></th>\n",
       "      <th>intent</th>\n",
       "      <th>query</th>\n",
       "      <th>answer</th>\n",
       "    </tr>\n",
       "  </thead>\n",
       "  <tbody>\n",
       "    <tr>\n",
       "      <th>0</th>\n",
       "      <td>일반상식</td>\n",
       "      <td>다테 기미코가 최초로 은퇴 선언을 한게 언제지</td>\n",
       "      <td>1996년 9월 24일</td>\n",
       "    </tr>\n",
       "    <tr>\n",
       "      <th>1</th>\n",
       "      <td>일반상식</td>\n",
       "      <td>ave;new 본거지 어디야</td>\n",
       "      <td>도쿄 치요다구</td>\n",
       "    </tr>\n",
       "    <tr>\n",
       "      <th>2</th>\n",
       "      <td>일반상식</td>\n",
       "      <td>사카이 다다요시의 아버지가 누구지</td>\n",
       "      <td>사카이 나오타카(酒井直隆)</td>\n",
       "    </tr>\n",
       "    <tr>\n",
       "      <th>3</th>\n",
       "      <td>일반상식</td>\n",
       "      <td>일반성면의 면적이 얼마야</td>\n",
       "      <td>19.41 km²</td>\n",
       "    </tr>\n",
       "    <tr>\n",
       "      <th>4</th>\n",
       "      <td>일반상식</td>\n",
       "      <td>금나라를 세운 사람이 누구야</td>\n",
       "      <td>태조 아구다</td>\n",
       "    </tr>\n",
       "  </tbody>\n",
       "</table>\n",
       "</div>"
      ],
      "text/plain": [
       "  intent                      query          answer\n",
       "0   일반상식  다테 기미코가 최초로 은퇴 선언을 한게 언제지    1996년 9월 24일\n",
       "1   일반상식            ave;new 본거지 어디야         도쿄 치요다구\n",
       "2   일반상식         사카이 다다요시의 아버지가 누구지  사카이 나오타카(酒井直隆)\n",
       "3   일반상식              일반성면의 면적이 얼마야       19.41 km²\n",
       "4   일반상식            금나라를 세운 사람이 누구야          태조 아구다"
      ]
     },
     "execution_count": 72,
     "metadata": {},
     "output_type": "execute_result"
    }
   ],
   "source": [
    "common_sense_df.head()"
   ]
  },
  {
   "cell_type": "code",
   "execution_count": 73,
   "metadata": {},
   "outputs": [],
   "source": [
    "common_sense_df.to_csv('./data_to_csv/일반상식.csv', index=False)"
   ]
  },
  {
   "cell_type": "code",
   "execution_count": 74,
   "metadata": {},
   "outputs": [
    {
     "data": {
      "text/html": [
       "<div>\n",
       "<style scoped>\n",
       "    .dataframe tbody tr th:only-of-type {\n",
       "        vertical-align: middle;\n",
       "    }\n",
       "\n",
       "    .dataframe tbody tr th {\n",
       "        vertical-align: top;\n",
       "    }\n",
       "\n",
       "    .dataframe thead th {\n",
       "        text-align: right;\n",
       "    }\n",
       "</style>\n",
       "<table border=\"1\" class=\"dataframe\">\n",
       "  <thead>\n",
       "    <tr style=\"text-align: right;\">\n",
       "      <th></th>\n",
       "      <th>intent</th>\n",
       "      <th>query</th>\n",
       "      <th>answer</th>\n",
       "    </tr>\n",
       "  </thead>\n",
       "  <tbody>\n",
       "    <tr>\n",
       "      <th>0</th>\n",
       "      <td>일반상식</td>\n",
       "      <td>다테 기미코가 최초로 은퇴 선언을 한게 언제지</td>\n",
       "      <td>1996년 9월 24일</td>\n",
       "    </tr>\n",
       "    <tr>\n",
       "      <th>1</th>\n",
       "      <td>일반상식</td>\n",
       "      <td>ave;new 본거지 어디야</td>\n",
       "      <td>도쿄 치요다구</td>\n",
       "    </tr>\n",
       "    <tr>\n",
       "      <th>2</th>\n",
       "      <td>일반상식</td>\n",
       "      <td>사카이 다다요시의 아버지가 누구지</td>\n",
       "      <td>사카이 나오타카(酒井直隆)</td>\n",
       "    </tr>\n",
       "    <tr>\n",
       "      <th>3</th>\n",
       "      <td>일반상식</td>\n",
       "      <td>일반성면의 면적이 얼마야</td>\n",
       "      <td>19.41 km²</td>\n",
       "    </tr>\n",
       "    <tr>\n",
       "      <th>4</th>\n",
       "      <td>일반상식</td>\n",
       "      <td>금나라를 세운 사람이 누구야</td>\n",
       "      <td>태조 아구다</td>\n",
       "    </tr>\n",
       "  </tbody>\n",
       "</table>\n",
       "</div>"
      ],
      "text/plain": [
       "  intent                      query          answer\n",
       "0   일반상식  다테 기미코가 최초로 은퇴 선언을 한게 언제지    1996년 9월 24일\n",
       "1   일반상식            ave;new 본거지 어디야         도쿄 치요다구\n",
       "2   일반상식         사카이 다다요시의 아버지가 누구지  사카이 나오타카(酒井直隆)\n",
       "3   일반상식              일반성면의 면적이 얼마야       19.41 km²\n",
       "4   일반상식            금나라를 세운 사람이 누구야          태조 아구다"
      ]
     },
     "execution_count": 74,
     "metadata": {},
     "output_type": "execute_result"
    }
   ],
   "source": [
    "df = pd.read_csv('./data_to_csv/일반상식.csv')\n",
    "df.head()"
   ]
  },
  {
   "attachments": {},
   "cell_type": "markdown",
   "metadata": {},
   "source": [
    "# 네이버 txt -> csv로 변환"
   ]
  },
  {
   "cell_type": "code",
   "execution_count": 75,
   "metadata": {},
   "outputs": [],
   "source": [
    "ratings = pd.read_csv('./nsmc-master/ratings.txt', delimiter='\\t')"
   ]
  },
  {
   "cell_type": "code",
   "execution_count": 76,
   "metadata": {},
   "outputs": [
    {
     "data": {
      "text/html": [
       "<div>\n",
       "<style scoped>\n",
       "    .dataframe tbody tr th:only-of-type {\n",
       "        vertical-align: middle;\n",
       "    }\n",
       "\n",
       "    .dataframe tbody tr th {\n",
       "        vertical-align: top;\n",
       "    }\n",
       "\n",
       "    .dataframe thead th {\n",
       "        text-align: right;\n",
       "    }\n",
       "</style>\n",
       "<table border=\"1\" class=\"dataframe\">\n",
       "  <thead>\n",
       "    <tr style=\"text-align: right;\">\n",
       "      <th></th>\n",
       "      <th>id</th>\n",
       "      <th>document</th>\n",
       "      <th>label</th>\n",
       "    </tr>\n",
       "  </thead>\n",
       "  <tbody>\n",
       "    <tr>\n",
       "      <th>0</th>\n",
       "      <td>8112052</td>\n",
       "      <td>어릴때보고 지금다시봐도 재밌어요ㅋㅋ</td>\n",
       "      <td>1</td>\n",
       "    </tr>\n",
       "    <tr>\n",
       "      <th>1</th>\n",
       "      <td>8132799</td>\n",
       "      <td>디자인을 배우는 학생으로, 외국디자이너와 그들이 일군 전통을 통해 발전해가는 문화산...</td>\n",
       "      <td>1</td>\n",
       "    </tr>\n",
       "    <tr>\n",
       "      <th>2</th>\n",
       "      <td>4655635</td>\n",
       "      <td>폴리스스토리 시리즈는 1부터 뉴까지 버릴께 하나도 없음.. 최고.</td>\n",
       "      <td>1</td>\n",
       "    </tr>\n",
       "    <tr>\n",
       "      <th>3</th>\n",
       "      <td>9251303</td>\n",
       "      <td>와.. 연기가 진짜 개쩔구나.. 지루할거라고 생각했는데 몰입해서 봤다.. 그래 이런...</td>\n",
       "      <td>1</td>\n",
       "    </tr>\n",
       "    <tr>\n",
       "      <th>4</th>\n",
       "      <td>10067386</td>\n",
       "      <td>안개 자욱한 밤하늘에 떠 있는 초승달 같은 영화.</td>\n",
       "      <td>1</td>\n",
       "    </tr>\n",
       "  </tbody>\n",
       "</table>\n",
       "</div>"
      ],
      "text/plain": [
       "         id                                           document  label\n",
       "0   8112052                                어릴때보고 지금다시봐도 재밌어요ㅋㅋ      1\n",
       "1   8132799  디자인을 배우는 학생으로, 외국디자이너와 그들이 일군 전통을 통해 발전해가는 문화산...      1\n",
       "2   4655635               폴리스스토리 시리즈는 1부터 뉴까지 버릴께 하나도 없음.. 최고.      1\n",
       "3   9251303  와.. 연기가 진짜 개쩔구나.. 지루할거라고 생각했는데 몰입해서 봤다.. 그래 이런...      1\n",
       "4  10067386                        안개 자욱한 밤하늘에 떠 있는 초승달 같은 영화.      1"
      ]
     },
     "execution_count": 76,
     "metadata": {},
     "output_type": "execute_result"
    }
   ],
   "source": [
    "ratings.head()"
   ]
  },
  {
   "cell_type": "code",
   "execution_count": 77,
   "metadata": {},
   "outputs": [],
   "source": [
    "ratings.to_csv('./data_to_csv/네이버.csv', index=False)"
   ]
  },
  {
   "cell_type": "code",
   "execution_count": 78,
   "metadata": {},
   "outputs": [
    {
     "data": {
      "text/html": [
       "<div>\n",
       "<style scoped>\n",
       "    .dataframe tbody tr th:only-of-type {\n",
       "        vertical-align: middle;\n",
       "    }\n",
       "\n",
       "    .dataframe tbody tr th {\n",
       "        vertical-align: top;\n",
       "    }\n",
       "\n",
       "    .dataframe thead th {\n",
       "        text-align: right;\n",
       "    }\n",
       "</style>\n",
       "<table border=\"1\" class=\"dataframe\">\n",
       "  <thead>\n",
       "    <tr style=\"text-align: right;\">\n",
       "      <th></th>\n",
       "      <th>id</th>\n",
       "      <th>document</th>\n",
       "      <th>label</th>\n",
       "    </tr>\n",
       "  </thead>\n",
       "  <tbody>\n",
       "    <tr>\n",
       "      <th>0</th>\n",
       "      <td>8112052</td>\n",
       "      <td>어릴때보고 지금다시봐도 재밌어요ㅋㅋ</td>\n",
       "      <td>1</td>\n",
       "    </tr>\n",
       "    <tr>\n",
       "      <th>1</th>\n",
       "      <td>8132799</td>\n",
       "      <td>디자인을 배우는 학생으로, 외국디자이너와 그들이 일군 전통을 통해 발전해가는 문화산...</td>\n",
       "      <td>1</td>\n",
       "    </tr>\n",
       "    <tr>\n",
       "      <th>2</th>\n",
       "      <td>4655635</td>\n",
       "      <td>폴리스스토리 시리즈는 1부터 뉴까지 버릴께 하나도 없음.. 최고.</td>\n",
       "      <td>1</td>\n",
       "    </tr>\n",
       "    <tr>\n",
       "      <th>3</th>\n",
       "      <td>9251303</td>\n",
       "      <td>와.. 연기가 진짜 개쩔구나.. 지루할거라고 생각했는데 몰입해서 봤다.. 그래 이런...</td>\n",
       "      <td>1</td>\n",
       "    </tr>\n",
       "    <tr>\n",
       "      <th>4</th>\n",
       "      <td>10067386</td>\n",
       "      <td>안개 자욱한 밤하늘에 떠 있는 초승달 같은 영화.</td>\n",
       "      <td>1</td>\n",
       "    </tr>\n",
       "  </tbody>\n",
       "</table>\n",
       "</div>"
      ],
      "text/plain": [
       "         id                                           document  label\n",
       "0   8112052                                어릴때보고 지금다시봐도 재밌어요ㅋㅋ      1\n",
       "1   8132799  디자인을 배우는 학생으로, 외국디자이너와 그들이 일군 전통을 통해 발전해가는 문화산...      1\n",
       "2   4655635               폴리스스토리 시리즈는 1부터 뉴까지 버릴께 하나도 없음.. 최고.      1\n",
       "3   9251303  와.. 연기가 진짜 개쩔구나.. 지루할거라고 생각했는데 몰입해서 봤다.. 그래 이런...      1\n",
       "4  10067386                        안개 자욱한 밤하늘에 떠 있는 초승달 같은 영화.      1"
      ]
     },
     "execution_count": 78,
     "metadata": {},
     "output_type": "execute_result"
    }
   ],
   "source": [
    "df = pd.read_csv('./data_to_csv/네이버.csv')\n",
    "df.head()"
   ]
  },
  {
   "cell_type": "code",
   "execution_count": null,
   "metadata": {},
   "outputs": [],
   "source": []
  }
 ],
 "metadata": {
  "kernelspec": {
   "display_name": "base",
   "language": "python",
   "name": "python3"
  },
  "language_info": {
   "codemirror_mode": {
    "name": "ipython",
    "version": 3
   },
   "file_extension": ".py",
   "mimetype": "text/x-python",
   "name": "python",
   "nbconvert_exporter": "python",
   "pygments_lexer": "ipython3",
   "version": "3.9.12"
  },
  "orig_nbformat": 4
 },
 "nbformat": 4,
 "nbformat_minor": 2
}
