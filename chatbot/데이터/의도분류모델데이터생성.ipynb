{
 "cells": [
  {
   "attachments": {},
   "cell_type": "markdown",
   "metadata": {},
   "source": [
    "# 의도 분류 모델 학습 데이터 생성하기"
   ]
  },
  {
   "cell_type": "code",
   "execution_count": 5,
   "metadata": {},
   "outputs": [],
   "source": [
    "import pandas as pd\n",
    "import numpy as np\n",
    "from konlpy.tag import Komoran"
   ]
  },
  {
   "cell_type": "code",
   "execution_count": 6,
   "metadata": {},
   "outputs": [],
   "source": [
    "movie = pd.read_csv(\"D:/대학교/4학년 1학기/졸작/chatbot/데이터/data_to_csv/네이버.csv\")\n",
    "purpose = pd.read_csv(\"D:/대학교/4학년 1학기/졸작/chatbot/데이터/data_to_csv/용도별목적대화데이터.csv\")\n",
    "topic = pd.read_csv(\"D:/대학교/4학년 1학기/졸작/chatbot/데이터/data_to_csv/주제별일상대화데이터.csv\")\n",
    "common_sense = pd.read_csv(\"D:/대학교/4학년 1학기/졸작/chatbot/데이터/data_to_csv/일반상식.csv\")\n",
    "add = pd.read_csv(\"D:/대학교/4학년 1학기/졸작/chatbot/데이터/data_to_csv/추가데이터.csv\")\n",
    "add_2 = pd.read_csv(\"./data_to_csv/추가_1.csv\")\n",
    "\n",
    "movie.dropna(inplace=True)\n",
    "purpose.dropna(inplace=True)\n",
    "topic.dropna(inplace=True)\n",
    "common_sense.dropna(inplace=True)\n",
    "add.dropna(inplace=True)"
   ]
  },
  {
   "cell_type": "code",
   "execution_count": 7,
   "metadata": {},
   "outputs": [
    {
     "name": "stdout",
     "output_type": "stream",
     "text": [
      "movie shape => (199992, 3)\n",
      "purpose shape => (480494, 1)\n",
      "topic shape => (1445760, 1)\n",
      "common_sense shape => (68538, 3)\n",
      "add => (9216, 2)\n",
      "add_2 => (71, 1)\n"
     ]
    }
   ],
   "source": [
    "print(f\"movie shape => {movie.shape}\\n\\\n",
    "purpose shape => {purpose.shape}\\n\\\n",
    "topic shape => {topic.shape}\\n\\\n",
    "common_sense shape => {common_sense.shape}\\n\\\n",
    "add => {add.shape}\\n\\\n",
    "add_2 => {add_2.shape}\")"
   ]
  },
  {
   "cell_type": "code",
   "execution_count": 8,
   "metadata": {},
   "outputs": [
    {
     "name": "stdout",
     "output_type": "stream",
     "text": [
      "Index(['id', 'document', 'label'], dtype='object')\n",
      "Index(['text'], dtype='object')\n",
      "Index(['text'], dtype='object')\n",
      "Index(['intent', 'query', 'answer'], dtype='object')\n",
      "Index(['query', 'intent'], dtype='object')\n",
      "Index(['query'], dtype='object')\n"
     ]
    }
   ],
   "source": [
    "print(movie.columns)\n",
    "print(purpose.columns)\n",
    "print(topic.columns)\n",
    "print(common_sense.columns)\n",
    "print(add.columns)\n",
    "print(add_2.columns)"
   ]
  },
  {
   "cell_type": "code",
   "execution_count": 9,
   "metadata": {},
   "outputs": [],
   "source": [
    "all_data = list(movie['document']) + list(purpose['text']) + list(topic['text']) + list(common_sense['query']) \\\n",
    "+ list(common_sense['answer']) + list(add['query']) + list(add_2['query'])"
   ]
  },
  {
   "cell_type": "code",
   "execution_count": 10,
   "metadata": {},
   "outputs": [
    {
     "data": {
      "text/plain": [
       "2272609"
      ]
     },
     "execution_count": 10,
     "metadata": {},
     "output_type": "execute_result"
    }
   ],
   "source": [
    "len(all_data)"
   ]
  },
  {
   "attachments": {},
   "cell_type": "markdown",
   "metadata": {},
   "source": [
    "### 의도 분류 데이터 생성하기"
   ]
  },
  {
   "cell_type": "code",
   "execution_count": 12,
   "metadata": {},
   "outputs": [],
   "source": [
    "number = [] #0\n",
    "place = [] #1\n",
    "time = []# 2\n",
    "com = []# 3\n",
    "que = []# 4\n",
    "etc = []# 5"
   ]
  },
  {
   "cell_type": "code",
   "execution_count": 13,
   "metadata": {},
   "outputs": [],
   "source": [
    "for i in all_data:\n",
    "    if ('어디' or '장소' or '위치' or '주소') in i: place.append(i)#장소 1\n",
    "    elif ('번호' or '전화') in i: number.append(i)#번호 0\n",
    "    elif ('시작' or '마감' or '언제' or '시간') in i: time.append(i)#시간 2\n",
    "    elif ('컴퓨터공학부') in i: com.append(i) #컴공에 대해서\n",
    "    elif('란?') in i: que.append(i) #질문\n",
    "    else: etc.append(i)"
   ]
  },
  {
   "cell_type": "code",
   "execution_count": 14,
   "metadata": {},
   "outputs": [
    {
     "name": "stdout",
     "output_type": "stream",
     "text": [
      "12534\n",
      "29348\n",
      "8332\n",
      "2222363\n",
      "6\n",
      "26\n"
     ]
    }
   ],
   "source": [
    "print(len(number))# 번호 0\n",
    "print(len(place))# 장소 1\n",
    "print(len(time))# 시간 2\n",
    "print(len(com))# 컴공 3\n",
    "print(len(que))# 질문 4\n",
    "\n",
    "print(len(etc))\n"
   ]
  },
  {
   "cell_type": "code",
   "execution_count": 15,
   "metadata": {},
   "outputs": [
    {
     "data": {
      "text/plain": [
       "12534"
      ]
     },
     "execution_count": 15,
     "metadata": {},
     "output_type": "execute_result"
    }
   ],
   "source": [
    "number_label =[]\n",
    "for _ in range(len(number)):\n",
    "    number_label.append(0)\n",
    "len(number_label)"
   ]
  },
  {
   "cell_type": "code",
   "execution_count": 16,
   "metadata": {},
   "outputs": [
    {
     "data": {
      "text/plain": [
       "29348"
      ]
     },
     "execution_count": 16,
     "metadata": {},
     "output_type": "execute_result"
    }
   ],
   "source": [
    "len(place)"
   ]
  },
  {
   "cell_type": "code",
   "execution_count": 17,
   "metadata": {},
   "outputs": [
    {
     "data": {
      "text/plain": [
       "29348"
      ]
     },
     "execution_count": 17,
     "metadata": {},
     "output_type": "execute_result"
    }
   ],
   "source": [
    "place_label=[]\n",
    "for _ in range(len(place)):\n",
    "    place_label.append(1)\n",
    "len(place_label)"
   ]
  },
  {
   "cell_type": "code",
   "execution_count": 18,
   "metadata": {},
   "outputs": [
    {
     "data": {
      "text/plain": [
       "8332"
      ]
     },
     "execution_count": 18,
     "metadata": {},
     "output_type": "execute_result"
    }
   ],
   "source": [
    "len(time)"
   ]
  },
  {
   "cell_type": "code",
   "execution_count": 19,
   "metadata": {},
   "outputs": [
    {
     "data": {
      "text/plain": [
       "8332"
      ]
     },
     "execution_count": 19,
     "metadata": {},
     "output_type": "execute_result"
    }
   ],
   "source": [
    "time_label = []\n",
    "for _ in range(len(time)):\n",
    "    time_label.append(2)\n",
    "len(time_label)"
   ]
  },
  {
   "cell_type": "code",
   "execution_count": 22,
   "metadata": {},
   "outputs": [
    {
     "data": {
      "text/plain": [
       "6"
      ]
     },
     "execution_count": 22,
     "metadata": {},
     "output_type": "execute_result"
    }
   ],
   "source": [
    "com_label=[]\n",
    "for _ in range(len(com)):\n",
    "    com_label.append(3)\n",
    "len(com_label)"
   ]
  },
  {
   "cell_type": "code",
   "execution_count": 23,
   "metadata": {},
   "outputs": [
    {
     "data": {
      "text/plain": [
       "26"
      ]
     },
     "execution_count": 23,
     "metadata": {},
     "output_type": "execute_result"
    }
   ],
   "source": [
    "que_label = []\n",
    "for _ in range(len(que)):\n",
    "    que_label.append(4)\n",
    "len(que_label)"
   ]
  },
  {
   "cell_type": "code",
   "execution_count": 25,
   "metadata": {},
   "outputs": [
    {
     "name": "stdout",
     "output_type": "stream",
     "text": [
      "70000\n"
     ]
    }
   ],
   "source": [
    "import random\n",
    "random.seed(42)\n",
    "etc_sample = random.sample(etc, 70000)\n",
    "print(len(etc_sample))"
   ]
  },
  {
   "cell_type": "code",
   "execution_count": 26,
   "metadata": {},
   "outputs": [
    {
     "data": {
      "text/plain": [
       "70000"
      ]
     },
     "execution_count": 26,
     "metadata": {},
     "output_type": "execute_result"
    }
   ],
   "source": [
    "etc_sample_label = []\n",
    "for _ in range(len(etc_sample)):\n",
    "    etc_sample_label.append(3)\n",
    "len(etc_sample_label)"
   ]
  },
  {
   "cell_type": "code",
   "execution_count": 28,
   "metadata": {},
   "outputs": [],
   "source": [
    "train_df = pd.DataFrame({'text':number+place+time+com+que,\n",
    "                         'label':number_label+place_label+time_label+com_label+que_label})"
   ]
  },
  {
   "cell_type": "code",
   "execution_count": 29,
   "metadata": {},
   "outputs": [
    {
     "data": {
      "text/html": [
       "<div>\n",
       "<style scoped>\n",
       "    .dataframe tbody tr th:only-of-type {\n",
       "        vertical-align: middle;\n",
       "    }\n",
       "\n",
       "    .dataframe tbody tr th {\n",
       "        vertical-align: top;\n",
       "    }\n",
       "\n",
       "    .dataframe thead th {\n",
       "        text-align: right;\n",
       "    }\n",
       "</style>\n",
       "<table border=\"1\" class=\"dataframe\">\n",
       "  <thead>\n",
       "    <tr style=\"text-align: right;\">\n",
       "      <th></th>\n",
       "      <th>text</th>\n",
       "      <th>label</th>\n",
       "    </tr>\n",
       "  </thead>\n",
       "  <tbody>\n",
       "    <tr>\n",
       "      <th>0</th>\n",
       "      <td>이 영화 있는사람 공유 부탁합니다 제 폰번호 010 4427 2774 연락한통만요^-^;</td>\n",
       "      <td>0</td>\n",
       "    </tr>\n",
       "    <tr>\n",
       "      <th>1</th>\n",
       "      <td>작가때문에 1점 주려다가 영화가 너무 좋아서 10점줌비행기를 끌고 추운곳에다 추락시...</td>\n",
       "      <td>0</td>\n",
       "    </tr>\n",
       "    <tr>\n",
       "      <th>2</th>\n",
       "      <td>비밀번호가 뭐야? 서윤내사랑 ㅋ_ㅋ</td>\n",
       "      <td>0</td>\n",
       "    </tr>\n",
       "    <tr>\n",
       "      <th>3</th>\n",
       "      <td>용팔이 시르즈를 볼려면 어떻게 하는지.전화번호좀</td>\n",
       "      <td>0</td>\n",
       "    </tr>\n",
       "    <tr>\n",
       "      <th>4</th>\n",
       "      <td>보다 말았는데 심장 졸라 쫄깃해진다;; 근데 여주 졸라 답답함. 세면대 물기 닦는 ...</td>\n",
       "      <td>0</td>\n",
       "    </tr>\n",
       "    <tr>\n",
       "      <th>...</th>\n",
       "      <td>...</td>\n",
       "      <td>...</td>\n",
       "    </tr>\n",
       "    <tr>\n",
       "      <th>50241</th>\n",
       "      <td>컵라면+소시지+반숙란?</td>\n",
       "      <td>4</td>\n",
       "    </tr>\n",
       "    <tr>\n",
       "      <th>50242</th>\n",
       "      <td>대란이에요? 특란?</td>\n",
       "      <td>4</td>\n",
       "    </tr>\n",
       "    <tr>\n",
       "      <th>50243</th>\n",
       "      <td>예전 그 역도선수 장미란?</td>\n",
       "      <td>4</td>\n",
       "    </tr>\n",
       "    <tr>\n",
       "      <th>50244</th>\n",
       "      <td>이번에 **** **도 키키 아이폰 논란? 있었대 ㅠ폰도 마음대로 못씀</td>\n",
       "      <td>4</td>\n",
       "    </tr>\n",
       "    <tr>\n",
       "      <th>50245</th>\n",
       "      <td>공학인증제란?</td>\n",
       "      <td>4</td>\n",
       "    </tr>\n",
       "  </tbody>\n",
       "</table>\n",
       "<p>50246 rows × 2 columns</p>\n",
       "</div>"
      ],
      "text/plain": [
       "                                                    text  label\n",
       "0      이 영화 있는사람 공유 부탁합니다 제 폰번호 010 4427 2774 연락한통만요^-^;      0\n",
       "1      작가때문에 1점 주려다가 영화가 너무 좋아서 10점줌비행기를 끌고 추운곳에다 추락시...      0\n",
       "2                                    비밀번호가 뭐야? 서윤내사랑 ㅋ_ㅋ      0\n",
       "3                             용팔이 시르즈를 볼려면 어떻게 하는지.전화번호좀      0\n",
       "4      보다 말았는데 심장 졸라 쫄깃해진다;; 근데 여주 졸라 답답함. 세면대 물기 닦는 ...      0\n",
       "...                                                  ...    ...\n",
       "50241                                       컵라면+소시지+반숙란?      4\n",
       "50242                                         대란이에요? 특란?      4\n",
       "50243                                     예전 그 역도선수 장미란?      4\n",
       "50244            이번에 **** **도 키키 아이폰 논란? 있었대 ㅠ폰도 마음대로 못씀      4\n",
       "50245                                            공학인증제란?      4\n",
       "\n",
       "[50246 rows x 2 columns]"
      ]
     },
     "execution_count": 29,
     "metadata": {},
     "output_type": "execute_result"
    }
   ],
   "source": [
    "train_df"
   ]
  },
  {
   "cell_type": "code",
   "execution_count": 32,
   "metadata": {},
   "outputs": [
    {
     "data": {
      "text/html": [
       "<div>\n",
       "<style scoped>\n",
       "    .dataframe tbody tr th:only-of-type {\n",
       "        vertical-align: middle;\n",
       "    }\n",
       "\n",
       "    .dataframe tbody tr th {\n",
       "        vertical-align: top;\n",
       "    }\n",
       "\n",
       "    .dataframe thead th {\n",
       "        text-align: right;\n",
       "    }\n",
       "</style>\n",
       "<table border=\"1\" class=\"dataframe\">\n",
       "  <thead>\n",
       "    <tr style=\"text-align: right;\">\n",
       "      <th></th>\n",
       "      <th>text</th>\n",
       "      <th>label</th>\n",
       "    </tr>\n",
       "  </thead>\n",
       "  <tbody>\n",
       "    <tr>\n",
       "      <th>50214</th>\n",
       "      <td>컴퓨터공학부란?</td>\n",
       "      <td>3</td>\n",
       "    </tr>\n",
       "    <tr>\n",
       "      <th>50215</th>\n",
       "      <td>컴퓨터공학부 교육과정</td>\n",
       "      <td>3</td>\n",
       "    </tr>\n",
       "    <tr>\n",
       "      <th>50216</th>\n",
       "      <td>컴퓨터공학부 교육이수 체계도</td>\n",
       "      <td>3</td>\n",
       "    </tr>\n",
       "    <tr>\n",
       "      <th>50217</th>\n",
       "      <td>컴퓨터공학부 교직과정</td>\n",
       "      <td>3</td>\n",
       "    </tr>\n",
       "    <tr>\n",
       "      <th>50218</th>\n",
       "      <td>컴퓨터공학부 동아리 소개</td>\n",
       "      <td>3</td>\n",
       "    </tr>\n",
       "    <tr>\n",
       "      <th>50219</th>\n",
       "      <td>컴퓨터공학부 취업 진출 분야</td>\n",
       "      <td>3</td>\n",
       "    </tr>\n",
       "  </tbody>\n",
       "</table>\n",
       "</div>"
      ],
      "text/plain": [
       "                  text  label\n",
       "50214         컴퓨터공학부란?      3\n",
       "50215      컴퓨터공학부 교육과정      3\n",
       "50216  컴퓨터공학부 교육이수 체계도      3\n",
       "50217      컴퓨터공학부 교직과정      3\n",
       "50218    컴퓨터공학부 동아리 소개      3\n",
       "50219  컴퓨터공학부 취업 진출 분야      3"
      ]
     },
     "execution_count": 32,
     "metadata": {},
     "output_type": "execute_result"
    }
   ],
   "source": [
    "train_df[train_df['label']==3]"
   ]
  },
  {
   "cell_type": "code",
   "execution_count": 33,
   "metadata": {},
   "outputs": [
    {
     "data": {
      "text/plain": [
       "text     0\n",
       "label    0\n",
       "dtype: int64"
      ]
     },
     "execution_count": 33,
     "metadata": {},
     "output_type": "execute_result"
    }
   ],
   "source": [
    "train_df.isnull().sum()"
   ]
  },
  {
   "cell_type": "code",
   "execution_count": 34,
   "metadata": {},
   "outputs": [],
   "source": [
    "train_df.reset_index(drop=True, inplace=True)"
   ]
  },
  {
   "cell_type": "code",
   "execution_count": 35,
   "metadata": {},
   "outputs": [
    {
     "data": {
      "text/html": [
       "<div>\n",
       "<style scoped>\n",
       "    .dataframe tbody tr th:only-of-type {\n",
       "        vertical-align: middle;\n",
       "    }\n",
       "\n",
       "    .dataframe tbody tr th {\n",
       "        vertical-align: top;\n",
       "    }\n",
       "\n",
       "    .dataframe thead th {\n",
       "        text-align: right;\n",
       "    }\n",
       "</style>\n",
       "<table border=\"1\" class=\"dataframe\">\n",
       "  <thead>\n",
       "    <tr style=\"text-align: right;\">\n",
       "      <th></th>\n",
       "      <th>text</th>\n",
       "      <th>label</th>\n",
       "    </tr>\n",
       "  </thead>\n",
       "  <tbody>\n",
       "    <tr>\n",
       "      <th>50241</th>\n",
       "      <td>컵라면+소시지+반숙란?</td>\n",
       "      <td>4</td>\n",
       "    </tr>\n",
       "    <tr>\n",
       "      <th>50242</th>\n",
       "      <td>대란이에요? 특란?</td>\n",
       "      <td>4</td>\n",
       "    </tr>\n",
       "    <tr>\n",
       "      <th>50243</th>\n",
       "      <td>예전 그 역도선수 장미란?</td>\n",
       "      <td>4</td>\n",
       "    </tr>\n",
       "    <tr>\n",
       "      <th>50244</th>\n",
       "      <td>이번에 **** **도 키키 아이폰 논란? 있었대 ㅠ폰도 마음대로 못씀</td>\n",
       "      <td>4</td>\n",
       "    </tr>\n",
       "    <tr>\n",
       "      <th>50245</th>\n",
       "      <td>공학인증제란?</td>\n",
       "      <td>4</td>\n",
       "    </tr>\n",
       "  </tbody>\n",
       "</table>\n",
       "</div>"
      ],
      "text/plain": [
       "                                          text  label\n",
       "50241                             컵라면+소시지+반숙란?      4\n",
       "50242                               대란이에요? 특란?      4\n",
       "50243                           예전 그 역도선수 장미란?      4\n",
       "50244  이번에 **** **도 키키 아이폰 논란? 있었대 ㅠ폰도 마음대로 못씀      4\n",
       "50245                                  공학인증제란?      4"
      ]
     },
     "execution_count": 35,
     "metadata": {},
     "output_type": "execute_result"
    }
   ],
   "source": [
    "train_df.tail()"
   ]
  },
  {
   "cell_type": "code",
   "execution_count": 36,
   "metadata": {},
   "outputs": [],
   "source": [
    "train_df.to_csv(\"train_data.csv\", index=False)"
   ]
  },
  {
   "cell_type": "code",
   "execution_count": 37,
   "metadata": {},
   "outputs": [],
   "source": [
    "df = pd.read_csv('./train_data.csv')"
   ]
  },
  {
   "cell_type": "code",
   "execution_count": 38,
   "metadata": {},
   "outputs": [
    {
     "data": {
      "text/html": [
       "<div>\n",
       "<style scoped>\n",
       "    .dataframe tbody tr th:only-of-type {\n",
       "        vertical-align: middle;\n",
       "    }\n",
       "\n",
       "    .dataframe tbody tr th {\n",
       "        vertical-align: top;\n",
       "    }\n",
       "\n",
       "    .dataframe thead th {\n",
       "        text-align: right;\n",
       "    }\n",
       "</style>\n",
       "<table border=\"1\" class=\"dataframe\">\n",
       "  <thead>\n",
       "    <tr style=\"text-align: right;\">\n",
       "      <th></th>\n",
       "      <th>text</th>\n",
       "      <th>label</th>\n",
       "    </tr>\n",
       "  </thead>\n",
       "  <tbody>\n",
       "    <tr>\n",
       "      <th>0</th>\n",
       "      <td>이 영화 있는사람 공유 부탁합니다 제 폰번호 010 4427 2774 연락한통만요^-^;</td>\n",
       "      <td>0</td>\n",
       "    </tr>\n",
       "    <tr>\n",
       "      <th>1</th>\n",
       "      <td>작가때문에 1점 주려다가 영화가 너무 좋아서 10점줌비행기를 끌고 추운곳에다 추락시...</td>\n",
       "      <td>0</td>\n",
       "    </tr>\n",
       "    <tr>\n",
       "      <th>2</th>\n",
       "      <td>비밀번호가 뭐야? 서윤내사랑 ㅋ_ㅋ</td>\n",
       "      <td>0</td>\n",
       "    </tr>\n",
       "    <tr>\n",
       "      <th>3</th>\n",
       "      <td>용팔이 시르즈를 볼려면 어떻게 하는지.전화번호좀</td>\n",
       "      <td>0</td>\n",
       "    </tr>\n",
       "    <tr>\n",
       "      <th>4</th>\n",
       "      <td>보다 말았는데 심장 졸라 쫄깃해진다;; 근데 여주 졸라 답답함. 세면대 물기 닦는 ...</td>\n",
       "      <td>0</td>\n",
       "    </tr>\n",
       "    <tr>\n",
       "      <th>...</th>\n",
       "      <td>...</td>\n",
       "      <td>...</td>\n",
       "    </tr>\n",
       "    <tr>\n",
       "      <th>50241</th>\n",
       "      <td>컵라면+소시지+반숙란?</td>\n",
       "      <td>4</td>\n",
       "    </tr>\n",
       "    <tr>\n",
       "      <th>50242</th>\n",
       "      <td>대란이에요? 특란?</td>\n",
       "      <td>4</td>\n",
       "    </tr>\n",
       "    <tr>\n",
       "      <th>50243</th>\n",
       "      <td>예전 그 역도선수 장미란?</td>\n",
       "      <td>4</td>\n",
       "    </tr>\n",
       "    <tr>\n",
       "      <th>50244</th>\n",
       "      <td>이번에 **** **도 키키 아이폰 논란? 있었대 ㅠ폰도 마음대로 못씀</td>\n",
       "      <td>4</td>\n",
       "    </tr>\n",
       "    <tr>\n",
       "      <th>50245</th>\n",
       "      <td>공학인증제란?</td>\n",
       "      <td>4</td>\n",
       "    </tr>\n",
       "  </tbody>\n",
       "</table>\n",
       "<p>50246 rows × 2 columns</p>\n",
       "</div>"
      ],
      "text/plain": [
       "                                                    text  label\n",
       "0      이 영화 있는사람 공유 부탁합니다 제 폰번호 010 4427 2774 연락한통만요^-^;      0\n",
       "1      작가때문에 1점 주려다가 영화가 너무 좋아서 10점줌비행기를 끌고 추운곳에다 추락시...      0\n",
       "2                                    비밀번호가 뭐야? 서윤내사랑 ㅋ_ㅋ      0\n",
       "3                             용팔이 시르즈를 볼려면 어떻게 하는지.전화번호좀      0\n",
       "4      보다 말았는데 심장 졸라 쫄깃해진다;; 근데 여주 졸라 답답함. 세면대 물기 닦는 ...      0\n",
       "...                                                  ...    ...\n",
       "50241                                       컵라면+소시지+반숙란?      4\n",
       "50242                                         대란이에요? 특란?      4\n",
       "50243                                     예전 그 역도선수 장미란?      4\n",
       "50244            이번에 **** **도 키키 아이폰 논란? 있었대 ㅠ폰도 마음대로 못씀      4\n",
       "50245                                            공학인증제란?      4\n",
       "\n",
       "[50246 rows x 2 columns]"
      ]
     },
     "execution_count": 38,
     "metadata": {},
     "output_type": "execute_result"
    }
   ],
   "source": [
    "df"
   ]
  },
  {
   "cell_type": "code",
   "execution_count": null,
   "metadata": {},
   "outputs": [],
   "source": []
  }
 ],
 "metadata": {
  "kernelspec": {
   "display_name": "base",
   "language": "python",
   "name": "python3"
  },
  "language_info": {
   "codemirror_mode": {
    "name": "ipython",
    "version": 3
   },
   "file_extension": ".py",
   "mimetype": "text/x-python",
   "name": "python",
   "nbconvert_exporter": "python",
   "pygments_lexer": "ipython3",
   "version": "3.9.13"
  },
  "orig_nbformat": 4
 },
 "nbformat": 4,
 "nbformat_minor": 2
}
